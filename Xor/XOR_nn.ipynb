{
  "nbformat": 4,
  "nbformat_minor": 0,
  "metadata": {
    "colab": {
      "name": "XOR nn.ipynb",
      "provenance": [],
      "collapsed_sections": []
    },
    "kernelspec": {
      "name": "python3",
      "display_name": "Python 3"
    }
  },
  "cells": [
    {
      "cell_type": "code",
      "metadata": {
        "id": "pYTb9l99GUQ9",
        "colab_type": "code",
        "colab": {}
      },
      "source": [
        "import numpy as np"
      ],
      "execution_count": 0,
      "outputs": []
    },
    {
      "cell_type": "code",
      "metadata": {
        "id": "Pta57CVKIPq_",
        "colab_type": "code",
        "colab": {}
      },
      "source": [
        "#XOR Gate\n",
        "X=np.array([[0,0],[0,1],[1,0],[1,1]])\n",
        "Y=np.array([[0],[1],[1],[0]])"
      ],
      "execution_count": 0,
      "outputs": []
    },
    {
      "cell_type": "code",
      "metadata": {
        "id": "yHXgpH0pGgwB",
        "colab_type": "code",
        "colab": {}
      },
      "source": [
        "def sigmoid(x):\n",
        "  return 1/(1+np.exp(-x))"
      ],
      "execution_count": 0,
      "outputs": []
    },
    {
      "cell_type": "code",
      "metadata": {
        "id": "VttkWhSoIrTy",
        "colab_type": "code",
        "colab": {}
      },
      "source": [
        "input_layer=2\n",
        "hidden=2\n",
        "output_layer=1\n",
        "lr=0.1\n",
        "weights={\n",
        "    'h1':2*np.random.random((input_layer,hidden))-1,\n",
        "    'out':2*np.random.random((hidden,output_layer))-1\n",
        "}\n",
        "bias={\n",
        "    'b1':2*np.random.random((1,hidden))-1,\n",
        "    'bo':2*np.random.random((1,output_layer))-1\n",
        "}"
      ],
      "execution_count": 0,
      "outputs": []
    },
    {
      "cell_type": "code",
      "metadata": {
        "id": "K7qFhyIpJkow",
        "colab_type": "code",
        "colab": {}
      },
      "source": [
        "def forward_propagation(x,weight,bias):\n",
        "  x=np.matmul(x,weight['h1'])+bias['b1']\n",
        "  x=sigmoid(x)\n",
        "  x=np.matmul(x,weight['out'])+bias['bo']\n",
        "  x=sigmoid(x)\n",
        "  return x"
      ],
      "execution_count": 0,
      "outputs": []
    },
    {
      "cell_type": "code",
      "metadata": {
        "id": "yVcCr6FjNFIV",
        "colab_type": "code",
        "colab": {}
      },
      "source": [
        "def backward_propagation(pred,y):\n",
        "  gra1=pred-y\n",
        "  gra1=gra1*pred*(1-pred)\n",
        "  hidd=np.matmul(gra1,weights['out'].T)\n",
        "  temp=np.matmul(X,weights['h1'])+bias['b1']\n",
        "  temp=sigmoid(temp)\n",
        "  hidd*=(temp*(1-temp))\n",
        "  changes_hidden=np.matmul(X.T,hidd)\n",
        "  bias_hidden=np.sum(hidd,axis=0)\n",
        "  bias['b1']=bias['b1']-lr*bias_hidden\n",
        "  weights['h1']=weights['h1']-lr*changes_hidden\n",
        "  changes_output=np.matmul(temp.T,gra1)\n",
        "  bias_output=np.sum(gra1,axis=0)\n",
        "  weights['out']=weights['out']-lr*changes_output\n",
        "  bias['bo']=bias['bo']-lr*bias_output"
      ],
      "execution_count": 0,
      "outputs": []
    },
    {
      "cell_type": "code",
      "metadata": {
        "id": "T6m1tnLurFxg",
        "colab_type": "code",
        "outputId": "db260a0c-11df-412b-bec6-c018349248ab",
        "colab": {
          "base_uri": "https://localhost:8080/",
          "height": 85
        }
      },
      "source": [
        "for i in range(100000):\n",
        "  pred=forward_propagation(X,weights,bias)\n",
        "  backward_propagation(pred,Y)\n",
        "pred=forward_propagation(X,weights,bias)\n",
        "print(pred)"
      ],
      "execution_count": 0,
      "outputs": [
        {
          "output_type": "stream",
          "text": [
            "[[0.01118473]\n",
            " [0.98724703]\n",
            " [0.9872345 ]\n",
            " [0.01204764]]\n"
          ],
          "name": "stdout"
        }
      ]
    },
    {
      "cell_type": "code",
      "metadata": {
        "id": "9hbn-ERnG2w4",
        "colab_type": "code",
        "outputId": "4cced334-1350-4d15-9a5c-c679c4f70a2c",
        "colab": {
          "base_uri": "https://localhost:8080/",
          "height": 68
        }
      },
      "source": [
        "weights"
      ],
      "execution_count": 0,
      "outputs": [
        {
          "output_type": "execute_result",
          "data": {
            "text/plain": [
              "{'h1': array([[ 4.93376351, -6.64888837],\n",
              "        [ 4.93697631, -6.66484963]]), 'out': array([[-10.65482979],\n",
              "        [-10.33276362]])}"
            ]
          },
          "metadata": {
            "tags": []
          },
          "execution_count": 10
        }
      ]
    },
    {
      "cell_type": "code",
      "metadata": {
        "id": "WlcoWpOzG44Z",
        "colab_type": "code",
        "outputId": "89dffc81-4be4-4da9-975a-5603f5b50e03",
        "colab": {
          "base_uri": "https://localhost:8080/",
          "height": 34
        }
      },
      "source": [
        "bias"
      ],
      "execution_count": 0,
      "outputs": [
        {
          "output_type": "execute_result",
          "data": {
            "text/plain": [
              "{'b1': array([[-7.66766261,  2.67297878]]), 'bo': array([[5.18842716]])}"
            ]
          },
          "metadata": {
            "tags": []
          },
          "execution_count": 11
        }
      ]
    }
  ]
}