{
  "nbformat": 4,
  "nbformat_minor": 0,
  "metadata": {
    "colab": {
      "name": "AND nn.ipynb",
      "provenance": [],
      "collapsed_sections": []
    },
    "kernelspec": {
      "name": "python3",
      "display_name": "Python 3"
    }
  },
  "cells": [
    {
      "cell_type": "code",
      "metadata": {
        "id": "Y3qTzS37XsJy",
        "colab_type": "code",
        "colab": {}
      },
      "source": [
        "import numpy as np"
      ],
      "execution_count": 0,
      "outputs": []
    },
    {
      "cell_type": "code",
      "metadata": {
        "id": "AsvlrpkiYHEz",
        "colab_type": "code",
        "colab": {}
      },
      "source": [
        "#AND Gate\n",
        "x=np.array([[0,0],[0,1],[1,0],[1,1]])\n",
        "y=np.array([[0],[0],[0],[1]])"
      ],
      "execution_count": 0,
      "outputs": []
    },
    {
      "cell_type": "code",
      "metadata": {
        "id": "xkniBFJZaW6_",
        "colab_type": "code",
        "colab": {}
      },
      "source": [
        "input_layer=2\n",
        "output=1"
      ],
      "execution_count": 0,
      "outputs": []
    },
    {
      "cell_type": "code",
      "metadata": {
        "id": "Sj0aIuDIbEj5",
        "colab_type": "code",
        "colab": {}
      },
      "source": [
        "weight={\n",
        "'out': 2*np.random.random((input_layer,output))-1\n",
        "}\n",
        "biases={\n",
        "'bo': 2*np.random.random(output)-1\n",
        "}"
      ],
      "execution_count": 0,
      "outputs": []
    },
    {
      "cell_type": "code",
      "metadata": {
        "id": "gzJknJFsinWg",
        "colab_type": "code",
        "colab": {}
      },
      "source": [
        "def sigmoid(x):\n",
        "  return 1/(1+np.exp(-x))"
      ],
      "execution_count": 0,
      "outputs": []
    },
    {
      "cell_type": "code",
      "metadata": {
        "id": "s7ifPHgTIanU",
        "colab_type": "code",
        "colab": {}
      },
      "source": [
        ""
      ],
      "execution_count": 0,
      "outputs": []
    },
    {
      "cell_type": "code",
      "metadata": {
        "id": "nI-D_5fqfWt7",
        "colab_type": "code",
        "colab": {}
      },
      "source": [
        "def fp(x,weight,bias):\n",
        "  x=np.matmul(x,weight['out'])+bias['bo']\n",
        "  x=sigmoid(x)\n",
        "  return x"
      ],
      "execution_count": 0,
      "outputs": []
    },
    {
      "cell_type": "code",
      "metadata": {
        "id": "ReyYn93LnQmz",
        "colab_type": "code",
        "colab": {}
      },
      "source": [
        "def bp(y,pred):\n",
        "  gra=pred-y\n",
        "  gra=gra*(pred)*(1-pred)\n",
        "  changes=np.zeros((input_layer,1),dtype='float')\n",
        "  for i in range(len(x)):\n",
        "    for j in range(2):\n",
        "      changes[j][0]+=gra[i][0]*x[i][j]\n",
        "  bchange=0\n",
        "  lr=0.1\n",
        "  for i in range(len(x)):\n",
        "      bchange+=gra[i][0]*1\n",
        "  weight['out']=weight['out']-lr*changes\n",
        "  biases['bo']=biases['bo']-lr*bchange"
      ],
      "execution_count": 0,
      "outputs": []
    },
    {
      "cell_type": "code",
      "metadata": {
        "id": "OhJU6q3D1oJY",
        "colab_type": "code",
        "outputId": "b86984e9-87c1-4151-d103-68e59b681151",
        "colab": {
          "base_uri": "https://localhost:8080/",
          "height": 85
        }
      },
      "source": [
        "for i in range(10000):\n",
        "  pred=fp(x,weight,biases)\n",
        "  bp(y,pred)\n",
        "fp(x,weight,biases)"
      ],
      "execution_count": 0,
      "outputs": [
        {
          "output_type": "execute_result",
          "data": {
            "text/plain": [
              "array([[2.48999537e-04],\n",
              "       [5.58424134e-02],\n",
              "       [5.58424133e-02],\n",
              "       [9.33534299e-01]])"
            ]
          },
          "metadata": {
            "tags": []
          },
          "execution_count": 8
        }
      ]
    },
    {
      "cell_type": "code",
      "metadata": {
        "id": "j-kvUZ06Touu",
        "colab_type": "code",
        "outputId": "70030ffb-78a0-4ac0-808e-24978c23852d",
        "colab": {
          "base_uri": "https://localhost:8080/",
          "height": 51
        }
      },
      "source": [
        "weight,biases"
      ],
      "execution_count": 0,
      "outputs": [
        {
          "output_type": "execute_result",
          "data": {
            "text/plain": [
              "({'out': array([[5.47005108],\n",
              "         [5.47005108]])}, {'bo': array([-8.29781049])})"
            ]
          },
          "metadata": {
            "tags": []
          },
          "execution_count": 9
        }
      ]
    }
  ]
}